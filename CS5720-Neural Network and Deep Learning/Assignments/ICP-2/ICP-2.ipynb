{
  "cells": [
    {
      "cell_type": "markdown",
      "id": "cc96168a",
      "metadata": {
        "id": "cc96168a"
      },
      "source": [
        "# Spring 2024: CS5720\n",
        "## Neural Networks & Deep Learning - ICP-2\n",
        "\n",
        "### Name - YAMINI EDDALA\n",
        "\n",
        "#### Student ID - 700756713\n",
        "\n",
        "\n"
      ]
    },
    {
      "cell_type": "markdown",
      "id": "8b1283c3",
      "metadata": {
        "id": "8b1283c3"
      },
      "source": [
        "#### 1. Write a program that takes two strings from the user: first_name, last_name. Pass these variables to fullname function that should return the (full name).\n",
        " - o For example:\n",
        "    ▪ First_name = “your first name”, last_name = “your last name”\n",
        "    ▪ Full_name = “your full name”\n",
        " - o Write function named “string_alternative” that returns every other char in the full_name string.\n",
        "   Str = “Good evening”\n",
        "   Output: Go vnn\n",
        "- Note: You need to create a function named “string_alternative” for this program and call it from main function.\n"
      ]
    },
    {
      "cell_type": "code",
      "execution_count": 1,
      "id": "ac820391",
      "metadata": {
        "id": "ac820391",
        "outputId": "391eaa17-dfb9-4219-9def-975ae7a94bc4",
        "colab": {
          "base_uri": "https://localhost:8080/"
        }
      },
      "outputs": [
        {
          "output_type": "stream",
          "name": "stdout",
          "text": [
            "Enter first name: Yamini\n",
            "Enter last name: Eddala\n",
            "Full_name = Yamini Eddala\n"
          ]
        }
      ],
      "source": [
        "def get_name(first_name:str,last_name:str):\n",
        "    return first_name+\" \"+ last_name\n",
        "\n",
        "first_name = input(\"Enter first name: \")\n",
        "last_name = input(\"Enter last name: \")\n",
        "\n",
        "full_name = get_name(first_name,last_name)\n",
        "\n",
        "print(\"Full_name =\",full_name)"
      ]
    },
    {
      "cell_type": "code",
      "source": [],
      "metadata": {
        "id": "iA9IOFeFOif0"
      },
      "id": "iA9IOFeFOif0",
      "execution_count": null,
      "outputs": []
    },
    {
      "cell_type": "code",
      "execution_count": null,
      "id": "2f87ab53",
      "metadata": {
        "id": "2f87ab53",
        "outputId": "780310b7-7747-45b9-e67c-4779d3548d73"
      },
      "outputs": [
        {
          "data": {
            "text/plain": [
              "'Go vnn'"
            ]
          },
          "execution_count": 4,
          "metadata": {},
          "output_type": "execute_result"
        }
      ],
      "source": [
        "def string_alternative(string:str):\n",
        "    return string[::2]\n",
        "\n",
        "str_ = \"Good evening\"\n",
        "string_alternative(str_)"
      ]
    },
    {
      "cell_type": "markdown",
      "id": "26ed0c91",
      "metadata": {
        "id": "26ed0c91"
      },
      "source": [
        "#### 2. Write a python program to find the wordcount in a file (input.txt) for each line and then print the output.\n",
        "- o Finally store the output in output.txt file.\n",
        "  Example:\n",
        " - Input: a file includes two lines:\n",
        "  Python Course\n",
        "  Deep Learning Course\n",
        " - Output:\n",
        "  -- Python Course\n",
        "  -- Deep Learning Course\n",
        "  - Word_Count:\n",
        "  -- Python: 1\n",
        "  -- Course: 2\n",
        "  -- Deep: 1\n",
        "  -- Learning: 1"
      ]
    },
    {
      "cell_type": "code",
      "execution_count": null,
      "id": "cc378ea4",
      "metadata": {
        "id": "cc378ea4",
        "outputId": "f19e09bf-da9b-4aec-dd8f-862ac9809c07"
      },
      "outputs": [
        {
          "name": "stdout",
          "output_type": "stream",
          "text": [
            "Python Course\n",
            "\n",
            "Deep Learning Course\n",
            "\n",
            "Word_Count:\n",
            "\n",
            "Python : 1 \n",
            "\n",
            "Course : 2 \n",
            "\n",
            "Deep : 1 \n",
            "\n",
            "Learning : 1 \n",
            "\n"
          ]
        }
      ],
      "source": [
        "def get_word_count(file_name):\n",
        "    output_file = \"output.txt\"\n",
        "    # open the output file in read and write mode\n",
        "    with open(output_file,'w+') as opt_file_obj:\n",
        "        # dictionary to store the frequencies of each\n",
        "        word_freq  = {}\n",
        "        # open the file in read mode\n",
        "        with open(file_name) as inp_file_obj:\n",
        "            # iterate over each line from the list of read lines\n",
        "            for line in inp_file_obj.readlines():\n",
        "                # write each line to output file\n",
        "                opt_file_obj.write(line)\n",
        "                # iterate over each word after splitting each line with seperator as \" \"(space).\n",
        "                for word in line.split(\" \"):\n",
        "                    # stripping each word to avoid any trailing characters\n",
        "                    # word = word.capitalize().strip()  # to keep word in same format\n",
        "                    word = word.strip()\n",
        "                    # updating the frequency of each word\n",
        "                    word_freq[word] = word_freq.get(word,0)+1\n",
        "        opt_file_obj.write(\"\\nWord_Count:\\n\")\n",
        "        # iterating over each set of key and value in the frequency dict\n",
        "        for key,value in word_freq.items():\n",
        "            # writing each word and its frequency in output file\n",
        "            opt_file_obj.write(f\"{key} : {value} \\n\")\n",
        "\n",
        "# run the function to get word frequency\n",
        "get_word_count(\"input.txt\")\n",
        "\n",
        "\n",
        "# To read the data of output.txt\n",
        "with open(\"output.txt\") as opt:\n",
        "    for line in opt.readlines():\n",
        "        print(line)"
      ]
    },
    {
      "cell_type": "markdown",
      "id": "c5a6b01b",
      "metadata": {
        "id": "c5a6b01b"
      },
      "source": [
        "#### 3. Write a program, which reads heights (inches.) of customers into a list and convert these heights to centimeters in a separate list using:\n",
        "- 1) Nested Interactive loop.\n",
        "- 2) List comprehensions\n",
        "  Example: L1: [150,155, 145, 148]\n",
        "  Output: [68.03, 70.3, 65.77, 67.13]"
      ]
    },
    {
      "cell_type": "code",
      "execution_count": null,
      "id": "c4dd5ca9",
      "metadata": {
        "id": "c4dd5ca9",
        "outputId": "e7bf350a-6e06-450c-c3ad-5b63f0755965"
      },
      "outputs": [
        {
          "name": "stdout",
          "output_type": "stream",
          "text": [
            "Converted using interactive loop:  [381.0, 393.7, 368.3, 375.92]\n",
            "Converted using list comprehensions:  [381.0, 393.7, 368.3, 375.92]\n"
          ]
        }
      ],
      "source": [
        "# method 1\n",
        "# using nested interactive loop\n",
        "def convert_heights_1(heights_in:list):\n",
        "    height_cm = []\n",
        "    for entry in heights_in:\n",
        "        height_cm.append(entry * 2.54)\n",
        "    return height_cm\n",
        "\n",
        "# method 2\n",
        "# using list comprehensions\n",
        "def convert_heights_2(heights_in:list):\n",
        "    height_cm = [entry * 2.54 for entry in heights_in]\n",
        "    return height_cm\n",
        "\n",
        "L1 = [150,155, 145, 148]\n",
        "print(\"Converted using interactive loop: \",convert_heights_1(L1))\n",
        "print(\"Converted using list comprehensions: \",convert_heights_2(L1))"
      ]
    }
  ],
  "metadata": {
    "kernelspec": {
      "display_name": "Python 3 (ipykernel)",
      "language": "python",
      "name": "python3"
    },
    "language_info": {
      "codemirror_mode": {
        "name": "ipython",
        "version": 3
      },
      "file_extension": ".py",
      "mimetype": "text/x-python",
      "name": "python",
      "nbconvert_exporter": "python",
      "pygments_lexer": "ipython3",
      "version": "3.9.7"
    },
    "colab": {
      "provenance": []
    }
  },
  "nbformat": 4,
  "nbformat_minor": 5
}